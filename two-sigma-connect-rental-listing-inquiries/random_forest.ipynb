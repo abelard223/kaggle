{
 "cells": [
  {
   "cell_type": "code",
   "execution_count": 57,
   "metadata": {
    "collapsed": true
   },
   "outputs": [],
   "source": [
    "%matplotlib inline\n",
    "import quadkey\n",
    "import os\n",
    "import sys\n",
    "import operator\n",
    "import numpy as np\n",
    "import pandas as pd\n",
    "import seaborn as sns\n",
    "from scipy import sparse\n",
    "from sklearn import model_selection, preprocessing, ensemble\n",
    "from sklearn.feature_extraction.text import TfidfVectorizer, CountVectorizer\n",
    "from sklearn.preprocessing import OneHotEncoder"
   ]
  },
  {
   "cell_type": "code",
   "execution_count": 109,
   "metadata": {
    "collapsed": true
   },
   "outputs": [],
   "source": [
    "from sklearn.ensemble import RandomForestClassifier\n",
    "from sklearn.model_selection import train_test_split\n",
    "from sklearn.metrics import log_loss"
   ]
  },
  {
   "cell_type": "code",
   "execution_count": 122,
   "metadata": {
    "collapsed": true
   },
   "outputs": [],
   "source": [
    "submit_result = {}"
   ]
  },
  {
   "cell_type": "code",
   "execution_count": 454,
   "metadata": {
    "collapsed": false
   },
   "outputs": [
    {
     "name": "stdout",
     "output_type": "stream",
     "text": [
      "(49352, 15)\n",
      "(74659, 14)\n"
     ]
    }
   ],
   "source": [
    "data_path = \"input/\"\n",
    "train_file = data_path + \"train.json\"\n",
    "test_file = data_path + \"test.json\"\n",
    "train_df = pd.read_json(train_file)\n",
    "test_df = pd.read_json(test_file)\n",
    "print(train_df.shape)\n",
    "print(test_df.shape)"
   ]
  },
  {
   "cell_type": "code",
   "execution_count": 455,
   "metadata": {
    "collapsed": false
   },
   "outputs": [
    {
     "data": {
      "text/html": [
       "<div>\n",
       "<table border=\"1\" class=\"dataframe\">\n",
       "  <thead>\n",
       "    <tr style=\"text-align: right;\">\n",
       "      <th></th>\n",
       "      <th>bathrooms</th>\n",
       "      <th>bedrooms</th>\n",
       "      <th>building_id</th>\n",
       "      <th>created</th>\n",
       "      <th>description</th>\n",
       "      <th>display_address</th>\n",
       "      <th>features</th>\n",
       "      <th>interest_level</th>\n",
       "      <th>latitude</th>\n",
       "      <th>listing_id</th>\n",
       "      <th>longitude</th>\n",
       "      <th>manager_id</th>\n",
       "      <th>photos</th>\n",
       "      <th>price</th>\n",
       "      <th>street_address</th>\n",
       "    </tr>\n",
       "  </thead>\n",
       "  <tbody>\n",
       "    <tr>\n",
       "      <th>10</th>\n",
       "      <td>1.5</td>\n",
       "      <td>3</td>\n",
       "      <td>53a5b119ba8f7b61d4e010512e0dfc85</td>\n",
       "      <td>2016-06-24 07:54:24</td>\n",
       "      <td>A Brand New 3 Bedroom 1.5 bath ApartmentEnjoy ...</td>\n",
       "      <td>Metropolitan Avenue</td>\n",
       "      <td>[]</td>\n",
       "      <td>medium</td>\n",
       "      <td>40.7145</td>\n",
       "      <td>7211212</td>\n",
       "      <td>-73.9425</td>\n",
       "      <td>5ba989232d0489da1b5f2c45f6688adc</td>\n",
       "      <td>[https://photos.renthop.com/2/7211212_1ed4542e...</td>\n",
       "      <td>3000</td>\n",
       "      <td>792 Metropolitan Avenue</td>\n",
       "    </tr>\n",
       "    <tr>\n",
       "      <th>10000</th>\n",
       "      <td>1.0</td>\n",
       "      <td>2</td>\n",
       "      <td>c5c8a357cba207596b04d1afd1e4f130</td>\n",
       "      <td>2016-06-12 12:19:27</td>\n",
       "      <td></td>\n",
       "      <td>Columbus Avenue</td>\n",
       "      <td>[Doorman, Elevator, Fitness Center, Cats Allow...</td>\n",
       "      <td>low</td>\n",
       "      <td>40.7947</td>\n",
       "      <td>7150865</td>\n",
       "      <td>-73.9667</td>\n",
       "      <td>7533621a882f71e25173b27e3139d83d</td>\n",
       "      <td>[https://photos.renthop.com/2/7150865_be3306c5...</td>\n",
       "      <td>5465</td>\n",
       "      <td>808 Columbus Avenue</td>\n",
       "    </tr>\n",
       "    <tr>\n",
       "      <th>100004</th>\n",
       "      <td>1.0</td>\n",
       "      <td>1</td>\n",
       "      <td>c3ba40552e2120b0acfc3cb5730bb2aa</td>\n",
       "      <td>2016-04-17 03:26:41</td>\n",
       "      <td>Top Top West Village location, beautiful Pre-w...</td>\n",
       "      <td>W 13 Street</td>\n",
       "      <td>[Laundry In Building, Dishwasher, Hardwood Flo...</td>\n",
       "      <td>high</td>\n",
       "      <td>40.7388</td>\n",
       "      <td>6887163</td>\n",
       "      <td>-74.0018</td>\n",
       "      <td>d9039c43983f6e564b1482b273bd7b01</td>\n",
       "      <td>[https://photos.renthop.com/2/6887163_de85c427...</td>\n",
       "      <td>2850</td>\n",
       "      <td>241 W 13 Street</td>\n",
       "    </tr>\n",
       "    <tr>\n",
       "      <th>100007</th>\n",
       "      <td>1.0</td>\n",
       "      <td>1</td>\n",
       "      <td>28d9ad350afeaab8027513a3e52ac8d5</td>\n",
       "      <td>2016-04-18 02:22:02</td>\n",
       "      <td>Building Amenities - Garage - Garden - fitness...</td>\n",
       "      <td>East 49th Street</td>\n",
       "      <td>[Hardwood Floors, No Fee]</td>\n",
       "      <td>low</td>\n",
       "      <td>40.7539</td>\n",
       "      <td>6888711</td>\n",
       "      <td>-73.9677</td>\n",
       "      <td>1067e078446a7897d2da493d2f741316</td>\n",
       "      <td>[https://photos.renthop.com/2/6888711_6e660cee...</td>\n",
       "      <td>3275</td>\n",
       "      <td>333 East 49th Street</td>\n",
       "    </tr>\n",
       "    <tr>\n",
       "      <th>100013</th>\n",
       "      <td>1.0</td>\n",
       "      <td>4</td>\n",
       "      <td>0</td>\n",
       "      <td>2016-04-28 01:32:41</td>\n",
       "      <td>Beautifully renovated 3 bedroom flex 4 bedroom...</td>\n",
       "      <td>West 143rd Street</td>\n",
       "      <td>[Pre-War]</td>\n",
       "      <td>low</td>\n",
       "      <td>40.8241</td>\n",
       "      <td>6934781</td>\n",
       "      <td>-73.9493</td>\n",
       "      <td>98e13ad4b495b9613cef886d79a6291f</td>\n",
       "      <td>[https://photos.renthop.com/2/6934781_1fa4b41a...</td>\n",
       "      <td>3350</td>\n",
       "      <td>500 West 143rd Street</td>\n",
       "    </tr>\n",
       "  </tbody>\n",
       "</table>\n",
       "</div>"
      ],
      "text/plain": [
       "        bathrooms  bedrooms                       building_id  \\\n",
       "10            1.5         3  53a5b119ba8f7b61d4e010512e0dfc85   \n",
       "10000         1.0         2  c5c8a357cba207596b04d1afd1e4f130   \n",
       "100004        1.0         1  c3ba40552e2120b0acfc3cb5730bb2aa   \n",
       "100007        1.0         1  28d9ad350afeaab8027513a3e52ac8d5   \n",
       "100013        1.0         4                                 0   \n",
       "\n",
       "                    created  \\\n",
       "10      2016-06-24 07:54:24   \n",
       "10000   2016-06-12 12:19:27   \n",
       "100004  2016-04-17 03:26:41   \n",
       "100007  2016-04-18 02:22:02   \n",
       "100013  2016-04-28 01:32:41   \n",
       "\n",
       "                                              description  \\\n",
       "10      A Brand New 3 Bedroom 1.5 bath ApartmentEnjoy ...   \n",
       "10000                                                       \n",
       "100004  Top Top West Village location, beautiful Pre-w...   \n",
       "100007  Building Amenities - Garage - Garden - fitness...   \n",
       "100013  Beautifully renovated 3 bedroom flex 4 bedroom...   \n",
       "\n",
       "            display_address  \\\n",
       "10      Metropolitan Avenue   \n",
       "10000       Columbus Avenue   \n",
       "100004          W 13 Street   \n",
       "100007     East 49th Street   \n",
       "100013    West 143rd Street   \n",
       "\n",
       "                                                 features interest_level  \\\n",
       "10                                                     []         medium   \n",
       "10000   [Doorman, Elevator, Fitness Center, Cats Allow...            low   \n",
       "100004  [Laundry In Building, Dishwasher, Hardwood Flo...           high   \n",
       "100007                          [Hardwood Floors, No Fee]            low   \n",
       "100013                                          [Pre-War]            low   \n",
       "\n",
       "        latitude  listing_id  longitude                        manager_id  \\\n",
       "10       40.7145     7211212   -73.9425  5ba989232d0489da1b5f2c45f6688adc   \n",
       "10000    40.7947     7150865   -73.9667  7533621a882f71e25173b27e3139d83d   \n",
       "100004   40.7388     6887163   -74.0018  d9039c43983f6e564b1482b273bd7b01   \n",
       "100007   40.7539     6888711   -73.9677  1067e078446a7897d2da493d2f741316   \n",
       "100013   40.8241     6934781   -73.9493  98e13ad4b495b9613cef886d79a6291f   \n",
       "\n",
       "                                                   photos  price  \\\n",
       "10      [https://photos.renthop.com/2/7211212_1ed4542e...   3000   \n",
       "10000   [https://photos.renthop.com/2/7150865_be3306c5...   5465   \n",
       "100004  [https://photos.renthop.com/2/6887163_de85c427...   2850   \n",
       "100007  [https://photos.renthop.com/2/6888711_6e660cee...   3275   \n",
       "100013  [https://photos.renthop.com/2/6934781_1fa4b41a...   3350   \n",
       "\n",
       "                 street_address  \n",
       "10      792 Metropolitan Avenue  \n",
       "10000       808 Columbus Avenue  \n",
       "100004          241 W 13 Street  \n",
       "100007     333 East 49th Street  \n",
       "100013    500 West 143rd Street  "
      ]
     },
     "execution_count": 455,
     "metadata": {},
     "output_type": "execute_result"
    }
   ],
   "source": [
    "train_df.head()"
   ]
  },
  {
   "cell_type": "code",
   "execution_count": 464,
   "metadata": {
    "collapsed": false
   },
   "outputs": [],
   "source": [
    "def feature_preprocessing(df, if_train=True):\n",
    "    \n",
    "    target_num_map = {'high':0, 'medium':1, 'low':2}\n",
    "    features_to_use  = [\"bathrooms\", \"bedrooms\", \"latitude\", \"longitude\",  \"price\" ,\n",
    "                        \"diff_price\",'diff_bathrooms','diff_bedrooms',\n",
    "                       'building_price']\n",
    "    \n",
    "    # datetime\n",
    "    df['ts'] = pd.to_datetime(df['created'])\n",
    "    df['created_year'] = df['ts'].dt.year\n",
    "    df['created_month'] = df['ts'].dt.month\n",
    "    df['created_day'] = df['ts'].dt.day\n",
    "    df['created_hour'] = df['ts'].dt.hour\n",
    "    \n",
    "    #len\n",
    "    df['features_cnt'] = df['features'].apply(len)\n",
    "    df['photos_cnt'] = df['photos'].apply(len)\n",
    "    df['desc_cnt'] = df['description'].apply(len)\n",
    "    \n",
    "    # group by building id\n",
    "    mean_of_building = df.groupby('building_id')['bathrooms','bedrooms','price'].mean()\n",
    "    mean_of_building.columns = ['building_bathrooms','building_bedrooms','building_price']\n",
    "    df = pd.merge(df, mean_of_building, left_on = df.building_id, right_index=True, how='left')\n",
    "    df['diff_bathrooms'] = df['bathrooms'] - df['building_bathrooms']\n",
    "    df['diff_bedrooms'] = df['bedrooms'] - df['building_bedrooms']\n",
    "    df['diff_price'] = df['price'] - df['building_price']\n",
    "    \n",
    "    df['diff_bathrooms'] =df['diff_bathrooms'].fillna(-9999)\n",
    "    df['diff_bedrooms'] =df['diff_bedrooms'].fillna(-9999)\n",
    "    df['diff_price'] = df['diff_price'].fillna(-9999)\n",
    "    \n",
    "    #features\n",
    "    df['features'] = df[\"features\"].apply(lambda x: 'Ringcentral ' + \" \".join([\"_\".join(i.split(\" \")) for i in x]))\n",
    "    tfidf = CountVectorizer(stop_words='english' , max_features=200, min_df=1)\n",
    "    tr_sparse = tfidf.fit_transform(df[\"features\"])\n",
    "    print 'tr_sparse' + str(tr_sparse.shape)\n",
    "    \n",
    "    features_to_use.extend(['created_year', 'created_month', 'created_day', 'created_hour','features_cnt','photos_cnt','desc_cnt'])\n",
    "    train_x = df[features_to_use]\n",
    "    print train_x.head()\n",
    "    \n",
    "    train_x = sparse.hstack([train_x, tr_sparse]).tocsr()\n",
    "    #train_x = sparse.csr_matrix(train_x.values)\n",
    "    \n",
    "    print 'train_x' + str(train_x.shape)\n",
    "    \n",
    "    if if_train:\n",
    "        train_y = pd.DataFrame(df['interest_level'])\n",
    "        train_y = np.array(train_y['interest_level'].apply(lambda x: target_num_map[x]))\n",
    "        return train_x, train_y\n",
    "    else:\n",
    "        return train_x"
   ]
  },
  {
   "cell_type": "code",
   "execution_count": 465,
   "metadata": {
    "collapsed": false
   },
   "outputs": [
    {
     "name": "stdout",
     "output_type": "stream",
     "text": [
      "tr_sparse(49352, 200)\n",
      "        bathrooms  bedrooms  latitude  longitude  price  diff_price  \\\n",
      "10            1.5         3   40.7145   -73.9425   3000  333.333333   \n",
      "10000         1.0         2   40.7947   -73.9667   5465 -994.791667   \n",
      "100004        1.0         1   40.7388   -74.0018   2850 -480.172414   \n",
      "100007        1.0         1   40.7539   -73.9677   3275 -302.989899   \n",
      "100013        1.0         4   40.8241   -73.9493   3350  -30.332609   \n",
      "\n",
      "        diff_bathrooms  diff_bedrooms  building_price  created_year  \\\n",
      "10            0.333333       1.333333     2666.666667          2016   \n",
      "10000        -0.708333       0.083333     6459.791667          2016   \n",
      "100004        0.000000      -0.327586     3330.172414          2016   \n",
      "100007       -0.020202       0.101010     3577.989899          2016   \n",
      "100013       -0.154296       2.575187     3380.332609          2016   \n",
      "\n",
      "        created_month  created_day  created_hour  features_cnt  photos_cnt  \\\n",
      "10                  6           24             7             0           5   \n",
      "10000               6           12            12             5          11   \n",
      "100004              4           17             3             4           8   \n",
      "100007              4           18             2             2           3   \n",
      "100013              4           28             1             1           3   \n",
      "\n",
      "        desc_cnt  \n",
      "10           588  \n",
      "10000          8  \n",
      "100004       691  \n",
      "100007       492  \n",
      "100013       479  \n",
      "train_x(49352, 216)\n"
     ]
    }
   ],
   "source": [
    "train_x, train_y = feature_preprocessing(train_df)"
   ]
  },
  {
   "cell_type": "code",
   "execution_count": 466,
   "metadata": {
    "collapsed": false
   },
   "outputs": [
    {
     "data": {
      "text/plain": [
       "((49352, 216), (49352,))"
      ]
     },
     "execution_count": 466,
     "metadata": {},
     "output_type": "execute_result"
    }
   ],
   "source": [
    "train_x.shape, train_y.shape"
   ]
  },
  {
   "cell_type": "code",
   "execution_count": 446,
   "metadata": {
    "collapsed": false
   },
   "outputs": [],
   "source": [
    "# KFold"
   ]
  },
  {
   "cell_type": "code",
   "execution_count": 468,
   "metadata": {
    "collapsed": false
   },
   "outputs": [
    {
     "name": "stdout",
     "output_type": "stream",
     "text": [
      "('TRAIN:', array([    0,     1,     2, ..., 49347, 49350, 49351]), 'TEST:', array([   24,    32,    38, ..., 49340, 49348, 49349]))\n",
      "[0.59402499584440782]\n",
      "('TRAIN:', array([    2,     3,     4, ..., 49349, 49350, 49351]), 'TEST:', array([    0,     1,     5, ..., 49336, 49338, 49346]))\n",
      "[0.59402499584440782, 0.6087949055305123]\n",
      "('TRAIN:', array([    0,     1,     2, ..., 49348, 49349, 49350]), 'TEST:', array([    7,    10,    12, ..., 49343, 49344, 49351]))\n",
      "[0.59402499584440782, 0.6087949055305123, 0.60693673301433659]\n",
      "('TRAIN:', array([    0,     1,     2, ..., 49349, 49350, 49351]), 'TEST:', array([    3,     4,     6, ..., 49332, 49341, 49347]))\n",
      "[0.59402499584440782, 0.6087949055305123, 0.60693673301433659, 0.59918489932953511]\n",
      "('TRAIN:', array([    0,     1,     3, ..., 49348, 49349, 49351]), 'TEST:', array([    2,     8,    15, ..., 49337, 49345, 49350]))\n",
      "[0.59402499584440782, 0.6087949055305123, 0.60693673301433659, 0.59918489932953511, 0.59112530578188927]\n"
     ]
    }
   ],
   "source": [
    "cv_scores = []\n",
    "kf = model_selection.KFold(n_splits=5, shuffle=True, random_state=2016)\n",
    "for dev_index, val_index in kf.split(range(train_x.shape[0])):\n",
    "        print(\"TRAIN:\", dev_index, \"TEST:\", val_index)\n",
    "        dev_x, val_x = train_x[dev_index,:], train_x[val_index,:]\n",
    "        dev_y, val_y = train_y[dev_index], train_y[val_index]\n",
    "        \n",
    "        # RandomForest parameter \n",
    "        clf = RandomForestClassifier(n_estimators=1000, n_jobs=2, random_state=2016)\n",
    "        \n",
    "        clf.fit(dev_x, dev_y)\n",
    "        val_y_pred = clf.predict_proba(val_x)\n",
    "        cv_scores.append(log_loss(val_y, val_y_pred))\n",
    "        \n",
    "        print(cv_scores)\n",
    "        \n"
   ]
  },
  {
   "cell_type": "code",
   "execution_count": 372,
   "metadata": {
    "collapsed": true
   },
   "outputs": [],
   "source": [
    "# make prediction "
   ]
  },
  {
   "cell_type": "code",
   "execution_count": 473,
   "metadata": {
    "collapsed": true
   },
   "outputs": [],
   "source": [
    "def prediction(test_df, model):\n",
    "    target_num_map = {'high':0, 'medium':1, 'low':2}\n",
    "    test_df_1 = feature_preprocessing(test_df, False)\n",
    "    test_y = model.predict_proba(test_df_1)\n",
    "    sub = pd.DataFrame(test_y, columns= [\"high\", \"medium\", \"low\"], index=test_df['listing_id'])\n",
    "    sub.reset_index(level=0, inplace=True)\n",
    "    return sub"
   ]
  },
  {
   "cell_type": "code",
   "execution_count": 474,
   "metadata": {
    "collapsed": false
   },
   "outputs": [
    {
     "name": "stdout",
     "output_type": "stream",
     "text": [
      "tr_sparse(74659, 200)\n",
      "        bathrooms  bedrooms  latitude  longitude  price  diff_price  \\\n",
      "0             1.0         1   40.7185   -73.9865   2950   20.000000   \n",
      "1             1.0         2   40.7278   -74.0000   2850 -501.978995   \n",
      "100           1.0         1   40.7306   -73.9890   3758 -843.333333   \n",
      "1000          1.0         2   40.7109   -73.9571   3300    0.000000   \n",
      "100000        2.0         2   40.7650   -73.9845   4900  892.273292   \n",
      "\n",
      "        diff_bathrooms  diff_bedrooms  building_price  created_year  \\\n",
      "0             0.000000       0.000000     2930.000000          2016   \n",
      "1            -0.159396       0.563177     3351.978995          2016   \n",
      "100          -0.333333      -0.333333     4601.333333          2016   \n",
      "1000          0.000000       0.000000     3300.000000          2016   \n",
      "100000        0.757764       0.391304     4007.726708          2016   \n",
      "\n",
      "        created_month  created_day  created_hour  features_cnt  photos_cnt  \\\n",
      "0                   6           11             5             6           8   \n",
      "1                   6           24             6             3           3   \n",
      "100                 6            3             4             3           6   \n",
      "1000                6           11             6            10           6   \n",
      "100000              4           12             5            14           7   \n",
      "\n",
      "        desc_cnt  \n",
      "0            587  \n",
      "1            245  \n",
      "100         1211  \n",
      "1000        1327  \n",
      "100000      1162  \n",
      "train_x(74659, 216)\n"
     ]
    }
   ],
   "source": [
    "sub = prediction(test_df, clf)\n",
    "sub.to_csv(\"submission_rf.csv\", index=False)"
   ]
  },
  {
   "cell_type": "code",
   "execution_count": 127,
   "metadata": {
    "collapsed": true
   },
   "outputs": [],
   "source": [
    "def add_submit_result( submit_result, cv_scores, score):\n",
    "    submit_result[str(reduce(lambda x,y: x + y, cv_scores)/len(cv_scores))] = score\n",
    "    return  submit_result"
   ]
  },
  {
   "cell_type": "code",
   "execution_count": 485,
   "metadata": {
    "collapsed": false
   },
   "outputs": [
    {
     "data": {
      "text/plain": [
       "{'0.553507933531': 0.63627,\n",
       " '0.554944172317': 0.6238,\n",
       " '0.555730063743': 0.59856,\n",
       " '0.559361638057': 0.57909,\n",
       " '0.560714145301': 0.57416,\n",
       " '0.576255174477': 0.59235,\n",
       " '0.6000133679': 0.64538,\n",
       " '0.610919215449': 0.6412,\n",
       " '0.61678022171': 0.66728,\n",
       " '0.812603233401': 0.81832}"
      ]
     },
     "execution_count": 485,
     "metadata": {},
     "output_type": "execute_result"
    }
   ],
   "source": [
    "submit_result = add_submit_result(submit_result, [0.55741334560380607, 0.5588175259935857, 0.56071541330880259, 0.54865627497218594, 0.54911830170626785], 0.62380)\n",
    "submit_result"
   ]
  },
  {
   "cell_type": "code",
   "execution_count": null,
   "metadata": {
    "collapsed": true
   },
   "outputs": [],
   "source": []
  }
 ],
 "metadata": {
  "kernelspec": {
   "display_name": "Python 2",
   "language": "python",
   "name": "python2"
  },
  "language_info": {
   "codemirror_mode": {
    "name": "ipython",
    "version": 2
   },
   "file_extension": ".py",
   "mimetype": "text/x-python",
   "name": "python",
   "nbconvert_exporter": "python",
   "pygments_lexer": "ipython2",
   "version": "2.7.11"
  }
 },
 "nbformat": 4,
 "nbformat_minor": 0
}
